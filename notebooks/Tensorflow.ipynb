{
 "cells": [
  {
   "cell_type": "markdown",
   "metadata": {},
   "source": [
    "# Sophisticated model\n",
    "\n",
    "Based on tensorflow tutorial for regression: https://www.tensorflow.org/tutorials/keras/regression"
   ]
  },
  {
   "cell_type": "code",
   "execution_count": 1,
   "metadata": {},
   "outputs": [
    {
     "name": "stdout",
     "output_type": "stream",
     "text": [
      "2.18.0\n"
     ]
    }
   ],
   "source": [
    "import matplotlib.pyplot as plt\n",
    "import numpy as np\n",
    "import pandas as pd\n",
    "import seaborn as sns\n",
    "\n",
    "# Make NumPy printouts easier to read.\n",
    "np.set_printoptions(precision=3, suppress=True)\n",
    "\n",
    "import tensorflow as tf\n",
    "\n",
    "from tensorflow import keras\n",
    "from tensorflow.keras import layers\n",
    "\n",
    "print(tf.__version__)"
   ]
  },
  {
   "cell_type": "code",
   "execution_count": 2,
   "metadata": {},
   "outputs": [],
   "source": [
    "train = pd.read_csv('../data/train.gz', index_col=\"index\")\n",
    "test = pd.read_csv('../data/test.gz', index_col=\"index\")\n"
   ]
  },
  {
   "cell_type": "code",
   "execution_count": 3,
   "metadata": {},
   "outputs": [],
   "source": [
    "def preprocess(train_df, test_df, categorical_features, save_columns_path=None):\n",
    "    \"\"\"\n",
    "    Preprocess training and test DataFrames for machine learning.\n",
    "\n",
    "    This function ensures consistent preprocessing, including:\n",
    "    1. Removing rows with missing values (NaN).\n",
    "    2. One-hot encoding specified categorical features consistently across train and test.\n",
    "    3. Removing non-numeric columns.\n",
    "    4. Aligning the columns in train and test sets to ensure compatibility.\n",
    "    5. Saving the training column order for consistent inference preprocessing.\n",
    "\n",
    "    Parameters:\n",
    "        train_df (pd.DataFrame): Training DataFrame.\n",
    "        test_df (pd.DataFrame): Test DataFrame.\n",
    "        categorical_features (list of str): List of column names to be one-hot encoded.\n",
    "        save_columns_path (str, optional): Path to save the training feature column order as a file.\n",
    "\n",
    "    Returns:\n",
    "        train_features (pd.DataFrame): Preprocessed training features.\n",
    "        train_labels (pd.Series): Target variable from training set ('asking_price').\n",
    "        test_features (pd.DataFrame): Preprocessed test features.\n",
    "        test_labels (pd.Series): Target variable from test set ('asking_price').\n",
    "    \"\"\"\n",
    "    # Drop rows with missing values\n",
    "    train_df = train_df.dropna().copy()\n",
    "    test_df = test_df.dropna().copy()\n",
    "\n",
    "    for feature in categorical_features:\n",
    "        # Get dummies for train\n",
    "        train_dummies = pd.get_dummies(train_df[feature], prefix=feature, dtype=int)\n",
    "        # Get dummies for test\n",
    "        test_dummies = pd.get_dummies(test_df[feature], prefix=feature, dtype=int)\n",
    "\n",
    "        # Align test_dummies to match train_dummies' columns\n",
    "        train_dummies, test_dummies = train_dummies.align(test_dummies, join=\"outer\", axis=1, fill_value=0)\n",
    "\n",
    "        # Append dummy variables to the original datasets\n",
    "        train_df = pd.concat([train_df, train_dummies], axis=1)\n",
    "        test_df = pd.concat([test_df, test_dummies], axis=1)\n",
    "\n",
    "        # Drop the original categorical feature\n",
    "        train_df.drop(columns=[feature], inplace=True)\n",
    "        test_df.drop(columns=[feature], inplace=True)\n",
    "\n",
    "    # Separate the target variable ('asking_price') from features\n",
    "    train_labels = train_df.pop('asking_price')\n",
    "    test_labels = test_df.pop('asking_price')\n",
    "\n",
    "    # Keep only numeric columns for train and test features\n",
    "    train_features = train_df.select_dtypes(include=[\"number\"])\n",
    "    test_features = test_df.select_dtypes(include=[\"number\"])\n",
    "\n",
    "    # Save the column order for inference preprocessing\n",
    "    if save_columns_path:\n",
    "        train_features.columns.to_series().to_csv(save_columns_path, index=False)\n",
    "\n",
    "    return train_features, train_labels, test_features, test_labels\n"
   ]
  },
  {
   "cell_type": "code",
   "execution_count": 4,
   "metadata": {},
   "outputs": [],
   "source": [
    "# Define categorical features\n",
    "categorical_features = [\"fuelType\", \"driveWheels\", \"manufacturer\", \"chassisType\", \"model\", \"color\"]\n",
    "\n",
    "# Preprocess the training and test data\n",
    "train_features, train_labels, test_features, test_labels = preprocess(\n",
    "    train_df=train,\n",
    "    test_df=test,\n",
    "    categorical_features=categorical_features,\n",
    "    save_columns_path=\"../app/my_model/train_columns.csv\"  # Save column order for inference\n",
    ")"
   ]
  },
  {
   "cell_type": "code",
   "execution_count": 19,
   "metadata": {},
   "outputs": [
    {
     "name": "stdout",
     "output_type": "stream",
     "text": [
      "Training columns: Index(['engineVolume', 'mileage', 'modelYear', 'power', 'fuelType_diesel',\n",
      "       'fuelType_electricity', 'fuelType_gasoline', 'fuelType_hybrid',\n",
      "       'driveWheels_4wd', 'driveWheels_fwd',\n",
      "       ...\n",
      "       'color_green', 'color_grey', 'color_lilac', 'color_orange',\n",
      "       'color_pink', 'color_red', 'color_silver', 'color_turquoise',\n",
      "       'color_white', 'color_yellow'],\n",
      "      dtype='object', length=244)\n"
     ]
    }
   ],
   "source": [
    "# After preprocessing training data\n",
    "print(\"Training columns:\", train_features.columns)\n"
   ]
  },
  {
   "cell_type": "code",
   "execution_count": 5,
   "metadata": {},
   "outputs": [
    {
     "data": {
      "text/html": [
       "<div>\n",
       "<style scoped>\n",
       "    .dataframe tbody tr th:only-of-type {\n",
       "        vertical-align: middle;\n",
       "    }\n",
       "\n",
       "    .dataframe tbody tr th {\n",
       "        vertical-align: top;\n",
       "    }\n",
       "\n",
       "    .dataframe thead th {\n",
       "        text-align: right;\n",
       "    }\n",
       "</style>\n",
       "<table border=\"1\" class=\"dataframe\">\n",
       "  <thead>\n",
       "    <tr style=\"text-align: right;\">\n",
       "      <th></th>\n",
       "      <th>engineVolume</th>\n",
       "      <th>mileage</th>\n",
       "      <th>modelYear</th>\n",
       "      <th>power</th>\n",
       "      <th>fuelType_diesel</th>\n",
       "      <th>fuelType_electricity</th>\n",
       "      <th>fuelType_gasoline</th>\n",
       "      <th>fuelType_hybrid</th>\n",
       "      <th>driveWheels_4wd</th>\n",
       "      <th>driveWheels_fwd</th>\n",
       "      <th>...</th>\n",
       "      <th>color_green</th>\n",
       "      <th>color_grey</th>\n",
       "      <th>color_lilac</th>\n",
       "      <th>color_orange</th>\n",
       "      <th>color_pink</th>\n",
       "      <th>color_red</th>\n",
       "      <th>color_silver</th>\n",
       "      <th>color_turquoise</th>\n",
       "      <th>color_white</th>\n",
       "      <th>color_yellow</th>\n",
       "    </tr>\n",
       "    <tr>\n",
       "      <th>index</th>\n",
       "      <th></th>\n",
       "      <th></th>\n",
       "      <th></th>\n",
       "      <th></th>\n",
       "      <th></th>\n",
       "      <th></th>\n",
       "      <th></th>\n",
       "      <th></th>\n",
       "      <th></th>\n",
       "      <th></th>\n",
       "      <th></th>\n",
       "      <th></th>\n",
       "      <th></th>\n",
       "      <th></th>\n",
       "      <th></th>\n",
       "      <th></th>\n",
       "      <th></th>\n",
       "      <th></th>\n",
       "      <th></th>\n",
       "      <th></th>\n",
       "      <th></th>\n",
       "    </tr>\n",
       "  </thead>\n",
       "  <tbody>\n",
       "    <tr>\n",
       "      <th>0</th>\n",
       "      <td>1.6</td>\n",
       "      <td>56600.0</td>\n",
       "      <td>2011</td>\n",
       "      <td>105.0</td>\n",
       "      <td>1</td>\n",
       "      <td>0</td>\n",
       "      <td>0</td>\n",
       "      <td>0</td>\n",
       "      <td>0</td>\n",
       "      <td>1</td>\n",
       "      <td>...</td>\n",
       "      <td>0</td>\n",
       "      <td>0</td>\n",
       "      <td>0</td>\n",
       "      <td>0</td>\n",
       "      <td>0</td>\n",
       "      <td>0</td>\n",
       "      <td>0</td>\n",
       "      <td>0</td>\n",
       "      <td>1</td>\n",
       "      <td>0</td>\n",
       "    </tr>\n",
       "    <tr>\n",
       "      <th>1</th>\n",
       "      <td>1.6</td>\n",
       "      <td>29400.0</td>\n",
       "      <td>2012</td>\n",
       "      <td>105.0</td>\n",
       "      <td>1</td>\n",
       "      <td>0</td>\n",
       "      <td>0</td>\n",
       "      <td>0</td>\n",
       "      <td>0</td>\n",
       "      <td>1</td>\n",
       "      <td>...</td>\n",
       "      <td>0</td>\n",
       "      <td>0</td>\n",
       "      <td>0</td>\n",
       "      <td>0</td>\n",
       "      <td>0</td>\n",
       "      <td>0</td>\n",
       "      <td>0</td>\n",
       "      <td>0</td>\n",
       "      <td>0</td>\n",
       "      <td>0</td>\n",
       "    </tr>\n",
       "    <tr>\n",
       "      <th>2</th>\n",
       "      <td>1.4</td>\n",
       "      <td>21300.0</td>\n",
       "      <td>2014</td>\n",
       "      <td>140.0</td>\n",
       "      <td>0</td>\n",
       "      <td>0</td>\n",
       "      <td>1</td>\n",
       "      <td>0</td>\n",
       "      <td>0</td>\n",
       "      <td>1</td>\n",
       "      <td>...</td>\n",
       "      <td>0</td>\n",
       "      <td>0</td>\n",
       "      <td>0</td>\n",
       "      <td>0</td>\n",
       "      <td>0</td>\n",
       "      <td>1</td>\n",
       "      <td>0</td>\n",
       "      <td>0</td>\n",
       "      <td>0</td>\n",
       "      <td>0</td>\n",
       "    </tr>\n",
       "    <tr>\n",
       "      <th>3</th>\n",
       "      <td>1.4</td>\n",
       "      <td>79695.0</td>\n",
       "      <td>2011</td>\n",
       "      <td>122.0</td>\n",
       "      <td>0</td>\n",
       "      <td>0</td>\n",
       "      <td>1</td>\n",
       "      <td>0</td>\n",
       "      <td>0</td>\n",
       "      <td>1</td>\n",
       "      <td>...</td>\n",
       "      <td>0</td>\n",
       "      <td>1</td>\n",
       "      <td>0</td>\n",
       "      <td>0</td>\n",
       "      <td>0</td>\n",
       "      <td>0</td>\n",
       "      <td>0</td>\n",
       "      <td>0</td>\n",
       "      <td>0</td>\n",
       "      <td>0</td>\n",
       "    </tr>\n",
       "    <tr>\n",
       "      <th>4</th>\n",
       "      <td>1.2</td>\n",
       "      <td>52500.0</td>\n",
       "      <td>2012</td>\n",
       "      <td>86.0</td>\n",
       "      <td>0</td>\n",
       "      <td>0</td>\n",
       "      <td>1</td>\n",
       "      <td>0</td>\n",
       "      <td>0</td>\n",
       "      <td>1</td>\n",
       "      <td>...</td>\n",
       "      <td>0</td>\n",
       "      <td>1</td>\n",
       "      <td>0</td>\n",
       "      <td>0</td>\n",
       "      <td>0</td>\n",
       "      <td>0</td>\n",
       "      <td>0</td>\n",
       "      <td>0</td>\n",
       "      <td>0</td>\n",
       "      <td>0</td>\n",
       "    </tr>\n",
       "  </tbody>\n",
       "</table>\n",
       "<p>5 rows × 244 columns</p>\n",
       "</div>"
      ],
      "text/plain": [
       "       engineVolume  mileage  modelYear  power  fuelType_diesel  \\\n",
       "index                                                             \n",
       "0               1.6  56600.0       2011  105.0                1   \n",
       "1               1.6  29400.0       2012  105.0                1   \n",
       "2               1.4  21300.0       2014  140.0                0   \n",
       "3               1.4  79695.0       2011  122.0                0   \n",
       "4               1.2  52500.0       2012   86.0                0   \n",
       "\n",
       "       fuelType_electricity  fuelType_gasoline  fuelType_hybrid  \\\n",
       "index                                                             \n",
       "0                         0                  0                0   \n",
       "1                         0                  0                0   \n",
       "2                         0                  1                0   \n",
       "3                         0                  1                0   \n",
       "4                         0                  1                0   \n",
       "\n",
       "       driveWheels_4wd  driveWheels_fwd  ...  color_green  color_grey  \\\n",
       "index                                    ...                            \n",
       "0                    0                1  ...            0           0   \n",
       "1                    0                1  ...            0           0   \n",
       "2                    0                1  ...            0           0   \n",
       "3                    0                1  ...            0           1   \n",
       "4                    0                1  ...            0           1   \n",
       "\n",
       "       color_lilac  color_orange  color_pink  color_red  color_silver  \\\n",
       "index                                                                   \n",
       "0                0             0           0          0             0   \n",
       "1                0             0           0          0             0   \n",
       "2                0             0           0          1             0   \n",
       "3                0             0           0          0             0   \n",
       "4                0             0           0          0             0   \n",
       "\n",
       "       color_turquoise  color_white  color_yellow  \n",
       "index                                              \n",
       "0                    0            1             0  \n",
       "1                    0            0             0  \n",
       "2                    0            0             0  \n",
       "3                    0            0             0  \n",
       "4                    0            0             0  \n",
       "\n",
       "[5 rows x 244 columns]"
      ]
     },
     "metadata": {},
     "output_type": "display_data"
    },
    {
     "name": "stdout",
     "output_type": "stream",
     "text": [
      "(32679, 244)\n",
      "(1367, 244)\n"
     ]
    }
   ],
   "source": [
    "display(train_features.head())\n",
    "print(train_features.shape)\n",
    "print(test_features.shape)\n"
   ]
  },
  {
   "cell_type": "code",
   "execution_count": 6,
   "metadata": {},
   "outputs": [],
   "source": [
    "normalizer = tf.keras.layers.Normalization(axis=-1)"
   ]
  },
  {
   "cell_type": "code",
   "execution_count": 7,
   "metadata": {},
   "outputs": [],
   "source": [
    "normalizer.adapt(np.array(train_features))"
   ]
  },
  {
   "cell_type": "code",
   "execution_count": 8,
   "metadata": {},
   "outputs": [],
   "source": [
    "def build_and_compile_model(norm):\n",
    "  model = keras.Sequential([\n",
    "      norm,\n",
    "      layers.Dense(64, activation='relu'),\n",
    "      layers.Dense(64, activation='relu'),\n",
    "      layers.Dense(1)\n",
    "  ])\n",
    "\n",
    "  model.compile(loss='mean_absolute_percentage_error',\n",
    "                optimizer=tf.keras.optimizers.Adam(0.001))\n",
    "  return model"
   ]
  },
  {
   "cell_type": "code",
   "execution_count": 9,
   "metadata": {},
   "outputs": [
    {
     "data": {
      "text/html": [
       "<pre style=\"white-space:pre;overflow-x:auto;line-height:normal;font-family:Menlo,'DejaVu Sans Mono',consolas,'Courier New',monospace\"><span style=\"font-weight: bold\">Model: \"sequential\"</span>\n",
       "</pre>\n"
      ],
      "text/plain": [
       "\u001b[1mModel: \"sequential\"\u001b[0m\n"
      ]
     },
     "metadata": {},
     "output_type": "display_data"
    },
    {
     "data": {
      "text/html": [
       "<pre style=\"white-space:pre;overflow-x:auto;line-height:normal;font-family:Menlo,'DejaVu Sans Mono',consolas,'Courier New',monospace\">┏━━━━━━━━━━━━━━━━━━━━━━━━━━━━━━━━━┳━━━━━━━━━━━━━━━━━━━━━━━━┳━━━━━━━━━━━━━━━┓\n",
       "┃<span style=\"font-weight: bold\"> Layer (type)                    </span>┃<span style=\"font-weight: bold\"> Output Shape           </span>┃<span style=\"font-weight: bold\">       Param # </span>┃\n",
       "┡━━━━━━━━━━━━━━━━━━━━━━━━━━━━━━━━━╇━━━━━━━━━━━━━━━━━━━━━━━━╇━━━━━━━━━━━━━━━┩\n",
       "│ normalization (<span style=\"color: #0087ff; text-decoration-color: #0087ff\">Normalization</span>)   │ (<span style=\"color: #00af00; text-decoration-color: #00af00\">32679</span>, <span style=\"color: #00af00; text-decoration-color: #00af00\">244</span>)           │           <span style=\"color: #00af00; text-decoration-color: #00af00\">489</span> │\n",
       "├─────────────────────────────────┼────────────────────────┼───────────────┤\n",
       "│ dense (<span style=\"color: #0087ff; text-decoration-color: #0087ff\">Dense</span>)                   │ ?                      │   <span style=\"color: #00af00; text-decoration-color: #00af00\">0</span> (unbuilt) │\n",
       "├─────────────────────────────────┼────────────────────────┼───────────────┤\n",
       "│ dense_1 (<span style=\"color: #0087ff; text-decoration-color: #0087ff\">Dense</span>)                 │ ?                      │   <span style=\"color: #00af00; text-decoration-color: #00af00\">0</span> (unbuilt) │\n",
       "├─────────────────────────────────┼────────────────────────┼───────────────┤\n",
       "│ dense_2 (<span style=\"color: #0087ff; text-decoration-color: #0087ff\">Dense</span>)                 │ ?                      │   <span style=\"color: #00af00; text-decoration-color: #00af00\">0</span> (unbuilt) │\n",
       "└─────────────────────────────────┴────────────────────────┴───────────────┘\n",
       "</pre>\n"
      ],
      "text/plain": [
       "┏━━━━━━━━━━━━━━━━━━━━━━━━━━━━━━━━━┳━━━━━━━━━━━━━━━━━━━━━━━━┳━━━━━━━━━━━━━━━┓\n",
       "┃\u001b[1m \u001b[0m\u001b[1mLayer (type)                   \u001b[0m\u001b[1m \u001b[0m┃\u001b[1m \u001b[0m\u001b[1mOutput Shape          \u001b[0m\u001b[1m \u001b[0m┃\u001b[1m \u001b[0m\u001b[1m      Param #\u001b[0m\u001b[1m \u001b[0m┃\n",
       "┡━━━━━━━━━━━━━━━━━━━━━━━━━━━━━━━━━╇━━━━━━━━━━━━━━━━━━━━━━━━╇━━━━━━━━━━━━━━━┩\n",
       "│ normalization (\u001b[38;5;33mNormalization\u001b[0m)   │ (\u001b[38;5;34m32679\u001b[0m, \u001b[38;5;34m244\u001b[0m)           │           \u001b[38;5;34m489\u001b[0m │\n",
       "├─────────────────────────────────┼────────────────────────┼───────────────┤\n",
       "│ dense (\u001b[38;5;33mDense\u001b[0m)                   │ ?                      │   \u001b[38;5;34m0\u001b[0m (unbuilt) │\n",
       "├─────────────────────────────────┼────────────────────────┼───────────────┤\n",
       "│ dense_1 (\u001b[38;5;33mDense\u001b[0m)                 │ ?                      │   \u001b[38;5;34m0\u001b[0m (unbuilt) │\n",
       "├─────────────────────────────────┼────────────────────────┼───────────────┤\n",
       "│ dense_2 (\u001b[38;5;33mDense\u001b[0m)                 │ ?                      │   \u001b[38;5;34m0\u001b[0m (unbuilt) │\n",
       "└─────────────────────────────────┴────────────────────────┴───────────────┘\n"
      ]
     },
     "metadata": {},
     "output_type": "display_data"
    },
    {
     "data": {
      "text/html": [
       "<pre style=\"white-space:pre;overflow-x:auto;line-height:normal;font-family:Menlo,'DejaVu Sans Mono',consolas,'Courier New',monospace\"><span style=\"font-weight: bold\"> Total params: </span><span style=\"color: #00af00; text-decoration-color: #00af00\">489</span> (1.91 KB)\n",
       "</pre>\n"
      ],
      "text/plain": [
       "\u001b[1m Total params: \u001b[0m\u001b[38;5;34m489\u001b[0m (1.91 KB)\n"
      ]
     },
     "metadata": {},
     "output_type": "display_data"
    },
    {
     "data": {
      "text/html": [
       "<pre style=\"white-space:pre;overflow-x:auto;line-height:normal;font-family:Menlo,'DejaVu Sans Mono',consolas,'Courier New',monospace\"><span style=\"font-weight: bold\"> Trainable params: </span><span style=\"color: #00af00; text-decoration-color: #00af00\">0</span> (0.00 B)\n",
       "</pre>\n"
      ],
      "text/plain": [
       "\u001b[1m Trainable params: \u001b[0m\u001b[38;5;34m0\u001b[0m (0.00 B)\n"
      ]
     },
     "metadata": {},
     "output_type": "display_data"
    },
    {
     "data": {
      "text/html": [
       "<pre style=\"white-space:pre;overflow-x:auto;line-height:normal;font-family:Menlo,'DejaVu Sans Mono',consolas,'Courier New',monospace\"><span style=\"font-weight: bold\"> Non-trainable params: </span><span style=\"color: #00af00; text-decoration-color: #00af00\">489</span> (1.91 KB)\n",
       "</pre>\n"
      ],
      "text/plain": [
       "\u001b[1m Non-trainable params: \u001b[0m\u001b[38;5;34m489\u001b[0m (1.91 KB)\n"
      ]
     },
     "metadata": {},
     "output_type": "display_data"
    }
   ],
   "source": [
    "dnn_model = build_and_compile_model(normalizer)\n",
    "dnn_model.summary()"
   ]
  },
  {
   "cell_type": "code",
   "execution_count": 10,
   "metadata": {},
   "outputs": [
    {
     "name": "stdout",
     "output_type": "stream",
     "text": [
      "CPU times: total: 37.5 s\n",
      "Wall time: 2min 5s\n"
     ]
    }
   ],
   "source": [
    "%%time\n",
    "history = dnn_model.fit(\n",
    "    train_features,\n",
    "    train_labels,\n",
    "    validation_split=0.2,\n",
    "    verbose=0, epochs=100)"
   ]
  },
  {
   "cell_type": "code",
   "execution_count": 11,
   "metadata": {},
   "outputs": [],
   "source": [
    "def plot_loss(history):\n",
    "  plt.plot(history.history['loss'], label='loss')\n",
    "  plt.plot(history.history['val_loss'], label='val_loss')\n",
    "  plt.xlabel('Epoch')\n",
    "  plt.ylabel('Error [MPG]')\n",
    "  plt.legend()\n",
    "  plt.grid(True)"
   ]
  },
  {
   "cell_type": "code",
   "execution_count": 12,
   "metadata": {},
   "outputs": [
    {
     "data": {
      "image/png": "[encoded data removed]",
      "text/plain": [
       "<Figure size 640x480 with 1 Axes>"
      ]
     },
     "metadata": {},
     "output_type": "display_data"
    }
   ],
   "source": [
    "plot_loss(history)"
   ]
  },
  {
   "cell_type": "code",
   "execution_count": 13,
   "metadata": {},
   "outputs": [],
   "source": [
    "test_results = dnn_model.evaluate(test_features, test_labels, verbose=0)"
   ]
  },
  {
   "cell_type": "code",
   "execution_count": 14,
   "metadata": {},
   "outputs": [
    {
     "name": "stdout",
     "output_type": "stream",
     "text": [
      "\u001b[1m43/43\u001b[0m \u001b[32m━━━━━━━━━━━━━━━━━━━━\u001b[0m\u001b[37m\u001b[0m \u001b[1m0s\u001b[0m 2ms/step\n"
     ]
    },
    {
     "data": {
      "image/png": "[encoded data removed]",
      "text/plain": [
       "<Figure size 640x480 with 1 Axes>"
      ]
     },
     "metadata": {},
     "output_type": "display_data"
    }
   ],
   "source": [
    "test_predictions = dnn_model.predict(test_features).flatten()\n",
    "\n",
    "a = plt.axes(aspect='equal')\n",
    "plt.scatter(test_labels, test_predictions)\n",
    "plt.xlabel('True Values [asking_price]')\n",
    "plt.ylabel('Predictions [asking_price]')\n",
    "lims = [0, 900000]\n",
    "plt.xlim(lims)\n",
    "plt.ylim(lims)\n",
    "_ = plt.plot(lims, lims)"
   ]
  },
  {
   "cell_type": "code",
   "execution_count": 15,
   "metadata": {},
   "outputs": [
    {
     "data": {
      "image/png": "[encoded data removed]",
      "text/plain": [
       "<Figure size 640x480 with 1 Axes>"
      ]
     },
     "metadata": {},
     "output_type": "display_data"
    }
   ],
   "source": [
    "error = test_predictions - test_labels\n",
    "plt.hist(error, bins=25)\n",
    "plt.xlabel('Prediction Error [asking_price]')\n",
    "_ = plt.ylabel('Count')"
   ]
  },
  {
   "cell_type": "code",
   "execution_count": 16,
   "metadata": {},
   "outputs": [
    {
     "name": "stdout",
     "output_type": "stream",
     "text": [
      "Validation MAPE: 45.83%\n",
      "Validation MAPE*: 25.40%\n"
     ]
    }
   ],
   "source": [
    "# Mean Absolute Percentage Error\n",
    "# Calculate MAPE* (Median Absolute Percentage Error)\n",
    "test_mape = np.mean(np.abs((test_labels - test_predictions) / test_labels)) * 100\n",
    "\n",
    "test_mape_ = np.median(np.abs((test_labels - test_predictions) / test_labels)) * 100\n",
    "\n",
    "print(f\"Validation MAPE: {test_mape:.2f}%\")\n",
    "print(f\"Validation MAPE*: {test_mape_:.2f}%\")\n",
    "\n"
   ]
  },
  {
   "cell_type": "code",
   "execution_count": 17,
   "metadata": {},
   "outputs": [],
   "source": [
    "dnn_model.save(\"../app/my_model/dnn_model.keras\")\n"
   ]
  },
  {
   "cell_type": "code",
   "execution_count": 18,
   "metadata": {},
   "outputs": [
    {
     "data": {
      "text/html": [
       "<div>\n",
       "<style scoped>\n",
       "    .dataframe tbody tr th:only-of-type {\n",
       "        vertical-align: middle;\n",
       "    }\n",
       "\n",
       "    .dataframe tbody tr th {\n",
       "        vertical-align: top;\n",
       "    }\n",
       "\n",
       "    .dataframe thead th {\n",
       "        text-align: right;\n",
       "    }\n",
       "</style>\n",
       "<table border=\"1\" class=\"dataframe\">\n",
       "  <thead>\n",
       "    <tr style=\"text-align: right;\">\n",
       "      <th></th>\n",
       "      <th>chassisType</th>\n",
       "      <th>color</th>\n",
       "      <th>driveWheels</th>\n",
       "      <th>engineVolume</th>\n",
       "      <th>fuelType</th>\n",
       "      <th>manufacturer</th>\n",
       "      <th>mileage</th>\n",
       "      <th>model</th>\n",
       "      <th>modelYear</th>\n",
       "      <th>asking_price</th>\n",
       "      <th>power</th>\n",
       "    </tr>\n",
       "    <tr>\n",
       "      <th>index</th>\n",
       "      <th></th>\n",
       "      <th></th>\n",
       "      <th></th>\n",
       "      <th></th>\n",
       "      <th></th>\n",
       "      <th></th>\n",
       "      <th></th>\n",
       "      <th></th>\n",
       "      <th></th>\n",
       "      <th></th>\n",
       "      <th></th>\n",
       "    </tr>\n",
       "  </thead>\n",
       "  <tbody>\n",
       "    <tr>\n",
       "      <th>0</th>\n",
       "      <td>hatchback</td>\n",
       "      <td>white</td>\n",
       "      <td>fwd</td>\n",
       "      <td>1.6</td>\n",
       "      <td>diesel</td>\n",
       "      <td>audi</td>\n",
       "      <td>56600.0</td>\n",
       "      <td>a1</td>\n",
       "      <td>2011</td>\n",
       "      <td>115937.0</td>\n",
       "      <td>105.0</td>\n",
       "    </tr>\n",
       "  </tbody>\n",
       "</table>\n",
       "</div>"
      ],
      "text/plain": [
       "      chassisType  color driveWheels  engineVolume fuelType manufacturer  \\\n",
       "index                                                                      \n",
       "0       hatchback  white         fwd           1.6   diesel         audi   \n",
       "\n",
       "       mileage model  modelYear  asking_price  power  \n",
       "index                                                 \n",
       "0      56600.0    a1       2011      115937.0  105.0  "
      ]
     },
     "execution_count": 18,
     "metadata": {},
     "output_type": "execute_result"
    }
   ],
   "source": [
    "train.head(1)"
   ]
  },
  {
   "cell_type": "code",
   "execution_count": null,
   "metadata": {},
   "outputs": [],
   "source": []
  }
 ],
 "metadata": {
  "kernelspec": {
   "display_name": ".venv",
   "language": "python",
   "name": "python3"
  },
  "language_info": {
   "codemirror_mode": {
    "name": "ipython",
    "version": 3
   },
   "file_extension": ".py",
   "mimetype": "text/x-python",
   "name": "python",
   "nbconvert_exporter": "python",
   "pygments_lexer": "ipython3",
   "version": "3.10.10"
  }
 },
 "nbformat": 4,
 "nbformat_minor": 2
}
