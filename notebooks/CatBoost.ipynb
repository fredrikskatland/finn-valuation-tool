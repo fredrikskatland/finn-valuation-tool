{
 "cells": [
  {
   "cell_type": "markdown",
   "metadata": {},
   "source": [
    "## Testing CatBoost algoritm\n",
    "\n",
    "Notice that I am using a different virtual environment to avoid numpy conflicts."
   ]
  },
  {
   "cell_type": "code",
   "execution_count": 32,
   "metadata": {},
   "outputs": [],
   "source": [
    "import pandas as pd\n",
    "import numpy as np\n",
    "from catboost import Pool, CatBoostRegressor"
   ]
  },
  {
   "cell_type": "code",
   "execution_count": 33,
   "metadata": {},
   "outputs": [],
   "source": [
    "train = pd.read_csv('../data/train.gz', index_col=\"index\")\n",
    "test = pd.read_csv('../data/test.gz', index_col=\"index\")"
   ]
  },
  {
   "cell_type": "code",
   "execution_count": 34,
   "metadata": {},
   "outputs": [],
   "source": [
    "train = train.dropna()"
   ]
  },
  {
   "cell_type": "code",
   "execution_count": 40,
   "metadata": {},
   "outputs": [
    {
     "name": "stdout",
     "output_type": "stream",
     "text": [
      "0:\tlearn: 125390.8983991\ttotal: 46.5ms\tremaining: 11.6s\n",
      "10:\tlearn: 91273.1957117\ttotal: 574ms\tremaining: 12.5s\n",
      "20:\tlearn: 72288.0983057\ttotal: 1.19s\tremaining: 12.9s\n",
      "30:\tlearn: 61478.0454295\ttotal: 1.72s\tremaining: 12.1s\n",
      "40:\tlearn: 55446.9876507\ttotal: 2.24s\tremaining: 11.4s\n",
      "50:\tlearn: 51734.3211032\ttotal: 2.75s\tremaining: 10.7s\n",
      "60:\tlearn: 49147.1486358\ttotal: 3.31s\tremaining: 10.3s\n",
      "70:\tlearn: 47072.4633672\ttotal: 3.83s\tremaining: 9.65s\n",
      "80:\tlearn: 45743.4856479\ttotal: 4.35s\tremaining: 9.07s\n",
      "90:\tlearn: 44720.2054974\ttotal: 4.87s\tremaining: 8.52s\n",
      "100:\tlearn: 43670.7542447\ttotal: 5.45s\tremaining: 8.05s\n",
      "110:\tlearn: 43084.8528493\ttotal: 5.98s\tremaining: 7.48s\n",
      "120:\tlearn: 42443.7693821\ttotal: 6.47s\tremaining: 6.9s\n",
      "130:\tlearn: 42034.6413183\ttotal: 6.95s\tremaining: 6.32s\n",
      "140:\tlearn: 41794.5048189\ttotal: 7.47s\tremaining: 5.78s\n",
      "150:\tlearn: 41302.4967433\ttotal: 7.96s\tremaining: 5.22s\n",
      "160:\tlearn: 40980.6073257\ttotal: 8.47s\tremaining: 4.68s\n",
      "170:\tlearn: 40643.7961557\ttotal: 8.93s\tremaining: 4.12s\n",
      "180:\tlearn: 40330.5057520\ttotal: 9.48s\tremaining: 3.61s\n",
      "190:\tlearn: 39932.4910828\ttotal: 10s\tremaining: 3.1s\n",
      "200:\tlearn: 39690.5323041\ttotal: 10.5s\tremaining: 2.56s\n",
      "210:\tlearn: 39536.3057020\ttotal: 10.9s\tremaining: 2.02s\n",
      "220:\tlearn: 39368.3408857\ttotal: 11.3s\tremaining: 1.48s\n",
      "230:\tlearn: 39136.5678536\ttotal: 11.8s\tremaining: 974ms\n",
      "240:\tlearn: 38922.1012165\ttotal: 12.3s\tremaining: 459ms\n",
      "249:\tlearn: 38814.2946512\ttotal: 12.7s\tremaining: 0us\n"
     ]
    },
    {
     "data": {
      "text/plain": [
       "<catboost.core.CatBoostRegressor at 0x1f1e2e7f2b0>"
      ]
     },
     "execution_count": 40,
     "metadata": {},
     "output_type": "execute_result"
    }
   ],
   "source": [
    "categorical_features = ['chassisType', 'color', 'driveWheels', 'fuelType', 'manufacturer', 'model']\n",
    "\n",
    "# Initialize Pool objects\n",
    "train_pool = Pool(data=train.drop(columns=['asking_price']),\n",
    "                  label=train['asking_price'],\n",
    "                  cat_features=categorical_features)\n",
    "\n",
    "test_pool = Pool(data=test,\n",
    "                 cat_features=categorical_features)\n",
    "\n",
    "# Custom loss function for\n",
    "def custom_mape(y_true, y_pred):\n",
    "    diff = np.abs((y_true - y_pred) / y_true)\n",
    "    return np.mean(diff) * 100\n",
    "\n",
    "# Train a CatBoostRegressor model\n",
    "model = CatBoostRegressor(iterations=250,\n",
    "                          depth=6,\n",
    "                          learning_rate=0.05,\n",
    "                          loss_function='RMSE',\n",
    "                          verbose=10)\n",
    "\n",
    "model.fit(train_pool)\n"
   ]
  },
  {
   "cell_type": "code",
   "execution_count": 41,
   "metadata": {},
   "outputs": [],
   "source": [
    "train_labels = train['asking_price']\n",
    "test_labels = test['asking_price']\n",
    "\n",
    "y_train_pred = model.predict(train_pool)\n",
    "y_test_pred = model.predict(test_pool)"
   ]
  },
  {
   "cell_type": "code",
   "execution_count": 43,
   "metadata": {},
   "outputs": [
    {
     "name": "stdout",
     "output_type": "stream",
     "text": [
      "Training MAPE*: 18.20%\n",
      "Validation MAPE*: 18.44%\n",
      "Training MAPE: 31.99%\n",
      "Validation MAPE: 34.44%\n"
     ]
    }
   ],
   "source": [
    "# Calculate MAPE* (Median Absolute Percentage Error)\n",
    "train_mape = np.mean(np.abs((train_labels - y_train_pred) / train_labels)) * 100\n",
    "test_mape = np.mean(np.abs((test_labels - y_test_pred) / test_labels)) * 100\n",
    "\n",
    "train_mape_ = np.median(np.abs((train_labels - y_train_pred) / train_labels)) * 100\n",
    "test_mape_ = np.median(np.abs((test_labels - y_test_pred) / test_labels)) * 100\n",
    "\n",
    "print(f\"Training MAPE*: {train_mape_:.2f}%\")\n",
    "print(f\"Validation MAPE*: {test_mape_:.2f}%\")\n",
    "\n",
    "print(f\"Training MAPE: {train_mape:.2f}%\")\n",
    "print(f\"Validation MAPE: {test_mape:.2f}%\")"
   ]
  },
  {
   "cell_type": "code",
   "execution_count": null,
   "metadata": {},
   "outputs": [],
   "source": []
  }
 ],
 "metadata": {
  "kernelspec": {
   "display_name": ".catboost",
   "language": "python",
   "name": "python3"
  },
  "language_info": {
   "codemirror_mode": {
    "name": "ipython",
    "version": 3
   },
   "file_extension": ".py",
   "mimetype": "text/x-python",
   "name": "python",
   "nbconvert_exporter": "python",
   "pygments_lexer": "ipython3",
   "version": "3.10.10"
  }
 },
 "nbformat": 4,
 "nbformat_minor": 2
}
